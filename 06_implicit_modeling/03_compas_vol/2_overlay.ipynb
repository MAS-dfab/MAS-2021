{
 "cells": [
  {
   "cell_type": "code",
   "execution_count": 1,
   "metadata": {},
   "outputs": [],
   "source": [
    "import ipyvolume as ipv\n",
    "import numpy as np\n",
    "\n",
    "from compas_vol.primitives import VolBox, VolPlane, VolCylinder\n",
    "from compas_vol.microstructures import TPMS\n",
    "from compas_vol.combinations import Intersection, Union, Subtraction\n",
    "from compas_vol.modifications import Overlay, Shell\n",
    "\n",
    "from compas.geometry import Box, Frame, Point, Plane, Cylinder, Circle"
   ]
  },
  {
   "cell_type": "code",
   "execution_count": 2,
   "metadata": {},
   "outputs": [],
   "source": [
    "import sys\n",
    "if not sys.warnoptions:\n",
    "    import warnings\n",
    "    warnings.simplefilter(\"ignore\")"
   ]
  },
  {
   "cell_type": "code",
   "execution_count": 3,
   "metadata": {},
   "outputs": [],
   "source": [
    "def display(dm):\n",
    "    fig = ipv.figure()\n",
    "    ipv_mesh = ipv.plot_isosurface(dm, 0.0, color = 'white', extent = [[-130,145], [-16, 16], [-8,8]] )\n",
    "    ipv.xyzlim(145)\n",
    "    ipv.show()\n",
    "    return ipv_mesh"
   ]
  },
  {
   "cell_type": "code",
   "execution_count": 4,
   "metadata": {},
   "outputs": [],
   "source": [
    "x,y,z = np.ogrid[-130:145:550j, -16:16:64j, -8:8:32j]"
   ]
  },
  {
   "cell_type": "code",
   "execution_count": 5,
   "metadata": {},
   "outputs": [
    {
     "data": {
      "application/vnd.jupyter.widget-view+json": {
       "model_id": "aa3154efa5f6482eb1e6fba732a73a2c",
       "version_major": 2,
       "version_minor": 0
      },
      "text/plain": [
       "VBox(children=(Figure(camera=PerspectiveCamera(fov=45.0, position=(0.0, 0.0, 2.0), projectionMatrix=(1.0, 0.0,…"
      ]
     },
     "metadata": {},
     "output_type": "display_data"
    },
    {
     "data": {
      "application/vnd.jupyter.widget-view+json": {
       "model_id": "1b13561ecf5e456f9f70d72df472d38f",
       "version_major": 2,
       "version_minor": 0
      },
      "text/plain": [
       "Mesh(color=array('white', dtype='<U5'), line_material=ShaderMaterial(), material=ShaderMaterial(side='DoubleSi…"
      ]
     },
     "metadata": {},
     "output_type": "display_data"
    }
   ],
   "source": [
    "vbox = VolBox(Box(Frame.worldXY(), 250, 30, 10), 1.5)\n",
    "cyl = VolCylinder(Cylinder(Circle(Plane((125,0,0), (0,0,1)), 15), 10))\n",
    "box_cylinder_union = Union(vbox, cyl)\n",
    "\n",
    "dm = box_cylinder_union.get_distance_numpy(x,y,z)\n",
    "display(dm)"
   ]
  },
  {
   "cell_type": "code",
   "execution_count": 10,
   "metadata": {},
   "outputs": [],
   "source": [
    "gyroid = TPMS(tpmstype = 'Gyroid', wavelength = 5.0)\n",
    "shell = Shell(gyroid, 2.0, 0.5)\n",
    "vplane = VolPlane(Plane((0,0,0), (1,0,0)))\n",
    "overlay1 = Overlay(shell, vplane, 0.005)\n",
    "intersection = Intersection(overlay1, box_cylinder_union)\n",
    "c1 = VolCylinder(Cylinder(Circle(Plane((125,0,0),(0,0,1)), 12), 13))\n",
    "c2 = VolCylinder(Cylinder(Circle(Plane((125,0,0),(0,0,1)), 10), 20))\n",
    "add = Union(intersection, c1)\n",
    "hole = Subtraction(add, c2)"
   ]
  },
  {
   "cell_type": "code",
   "execution_count": 11,
   "metadata": {},
   "outputs": [
    {
     "data": {
      "application/vnd.jupyter.widget-view+json": {
       "model_id": "5cb887c824b64474b9ff53f0838992cb",
       "version_major": 2,
       "version_minor": 0
      },
      "text/plain": [
       "VBox(children=(Figure(camera=PerspectiveCamera(fov=45.0, position=(0.0, 0.0, 2.0), projectionMatrix=(1.0, 0.0,…"
      ]
     },
     "metadata": {},
     "output_type": "display_data"
    }
   ],
   "source": [
    "dm = hole.get_distance_numpy(x,y,z)\n",
    "final_ipv_mesh = display(dm)"
   ]
  },
  {
   "cell_type": "code",
   "execution_count": 8,
   "metadata": {},
   "outputs": [],
   "source": [
    "def export_ipv_mesh(mesh, filename='ipv_mesh.obj', colors=None):\n",
    "    \"\"\"\n",
    "    Exports a mesh of type :class:`ipyvolume.widgets.Mesh`\n",
    "    to an .obj file at specified location.\n",
    "    \"\"\"\n",
    "    import numpy as np\n",
    "    import os\n",
    "    vs = np.vstack((mesh.x, mesh.y, mesh.z)).T\n",
    "    # vs = ['v {:.4f} {:.4f} {:.4f}'.format(v[0], v[1], v[2]) for v in vs]\n",
    "    vs = ['v {} {} {}'.format(v[0], v[1], v[2]) for v in vs]\n",
    "    if colors is not None:\n",
    "        vs = [vs[i]+' {} {} {}'.format(c[0], c[1], c[2]) for i, c in enumerate(colors)]\n",
    "    fs = ['f {} {} {}'.format(v[0]+1, v[1]+1, v[2]+1) for v in mesh.triangles]\n",
    "    \n",
    "    filename = os.path.join(os.getcwd(), filename)\n",
    "    with open(filename, 'w') as f:\n",
    "        f.write('\\n'.join(vs))\n",
    "        f.write('\\n')\n",
    "        f.write('\\n'.join(fs))\n",
    "    print(\"Export completed at \" + str(filename))"
   ]
  },
  {
   "cell_type": "code",
   "execution_count": 9,
   "metadata": {},
   "outputs": [
    {
     "name": "stdout",
     "output_type": "stream",
     "text": [
      "Export completed at I:\\Desktop\\tutorial_28_oct\\overlays.obj\n"
     ]
    }
   ],
   "source": [
    "export_ipv_mesh(final_ipv_mesh, 'overlays.obj')"
   ]
  }
 ],
 "metadata": {
  "kernelspec": {
   "display_name": "Python 3",
   "language": "python",
   "name": "python3"
  },
  "language_info": {
   "codemirror_mode": {
    "name": "ipython",
    "version": 3
   },
   "file_extension": ".py",
   "mimetype": "text/x-python",
   "name": "python",
   "nbconvert_exporter": "python",
   "pygments_lexer": "ipython3",
   "version": "3.7.8"
  }
 },
 "nbformat": 4,
 "nbformat_minor": 4
}

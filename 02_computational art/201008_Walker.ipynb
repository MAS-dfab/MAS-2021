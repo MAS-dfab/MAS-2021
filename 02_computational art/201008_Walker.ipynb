{
 "cells": [
  {
   "cell_type": "code",
   "execution_count": 1,
   "metadata": {},
   "outputs": [],
   "source": [
    "import random as r\n",
    "import matplotlib.pyplot as plt\n",
    "import ipywidgets as widgets\n",
    "from ipywidgets import interact\n",
    "import noise\n",
    "import math"
   ]
  },
  {
   "cell_type": "code",
   "execution_count": 2,
   "metadata": {},
   "outputs": [],
   "source": [
    "def map(value, low1, high1, low2, high2):\n",
    "    return low2 + (value - low1) * (high2 - low2) / (high1 - low1)"
   ]
  },
  {
   "cell_type": "code",
   "execution_count": 3,
   "metadata": {},
   "outputs": [],
   "source": [
    "### Perlin noise parameters\n",
    "pscale = 10\n",
    "octaves = 6\n",
    "persistence = 0.5\n",
    "lacunarity = 2.0\n",
    "shape = (1024,1024)"
   ]
  },
  {
   "cell_type": "code",
   "execution_count": 4,
   "metadata": {},
   "outputs": [],
   "source": [
    "class Walker:\n",
    "    def __init__(self):\n",
    "        self.x = 0\n",
    "        self.y = 0\n",
    "        \n",
    "        self.history_x = [self.x]\n",
    "        self.history_y = [self.y]\n",
    "        \n",
    "    def draw(self, fig_size=(10,10), window_size=60):\n",
    "        fig1, ax = plt.subplots(1,0,figsize=fig_size)\n",
    "        ax = plt.axes(xlim=(-window_size, window_size), ylim=(-window_size, window_size))\n",
    "        for x,y in zip(self.history_x, self.history_y):\n",
    "            plt.plot(x, y, 'ro', c='red', linewidth=10)\n",
    "            \n",
    "        plt.plot(x, y, 'ro', c='green', linewidth=30)\n",
    "        plt.plot(self.history_x, self.history_y, c='blue', linewidth=1)\n",
    "    \n",
    "    def take_random_step(self, step_size):\n",
    "        self.x += r.uniform(-1,1) * step_size\n",
    "        self.y += r.uniform(-1,1) * step_size\n",
    "            \n",
    "        self.history_x.append(self.x)\n",
    "        self.history_y.append(self.y)\n",
    "        \n",
    "    def take_smooth_noise_step(self, step_size):\n",
    "        # find smooth noise angle\n",
    "        \n",
    "        pscale = 100\n",
    "        n = noise.pnoise2(10*self.x/pscale, \n",
    "                          10*self.y/pscale, \n",
    "                          octaves=octaves, \n",
    "                          persistence=persistence, \n",
    "                          lacunarity=lacunarity, \n",
    "                          repeatx=shape[0], \n",
    "                          repeaty=shape[1], \n",
    "                          base=0)\n",
    "        \n",
    "        angle = map(n,-0.5,0.5,-math.pi,math.pi)\n",
    "\n",
    "        # increment x,y position\n",
    "        self.x += math.cos(angle) * step_size\n",
    "        self.y += math.sin(angle) * step_size\n",
    "        \n",
    "        # add new position to history\n",
    "        self.history_x.append(self.x)\n",
    "        self.history_y.append(self.y)"
   ]
  },
  {
   "cell_type": "code",
   "execution_count": 5,
   "metadata": {},
   "outputs": [
    {
     "data": {
      "application/vnd.jupyter.widget-view+json": {
       "model_id": "4301a3473a5b4ea1b1d9d2bd60812682",
       "version_major": 2,
       "version_minor": 0
      },
      "text/plain": [
       "interactive(children=(IntSlider(value=100, description='iterations', max=200), Output()), _dom_classes=('widge…"
      ]
     },
     "metadata": {},
     "output_type": "display_data"
    }
   ],
   "source": [
    "########### Random walk\n",
    "\n",
    "iterations = 0\n",
    "r.seed(10)\n",
    "w = Walker()\n",
    "\n",
    "@interact(iterations = widgets.IntSlider(min=0, max=200, step=1, value=100))\n",
    "def walk(iterations):\n",
    "    for i in range(iterations):\n",
    "        w.take_random_step(step_size=5)\n",
    "        \n",
    "    w.draw(fig_size=(10,10))\n",
    "    plt.show()  "
   ]
  },
  {
   "cell_type": "code",
   "execution_count": 6,
   "metadata": {},
   "outputs": [
    {
     "data": {
      "application/vnd.jupyter.widget-view+json": {
       "model_id": "9ec0f828054a4b22bd505b50274f8f7c",
       "version_major": 2,
       "version_minor": 0
      },
      "text/plain": [
       "interactive(children=(IntSlider(value=100, description='it', max=200), Output()), _dom_classes=('widget-intera…"
      ]
     },
     "metadata": {},
     "output_type": "display_data"
    }
   ],
   "source": [
    "########## Smooth noise walk\n",
    "\n",
    "\n",
    "iterations = 0\n",
    "r.seed(10)\n",
    "w = Walker()\n",
    "\n",
    "\n",
    "@interact(it = widgets.IntSlider(min=0, max=200, step=1, value=100))\n",
    "def walk(it):\n",
    "    for i in range(it):\n",
    "        w.take_smooth_noise_step(step_size=1)\n",
    "        \n",
    "    w.draw(fig_size=(30,30), window_size=100)\n",
    " \n",
    "    \n",
    "\n",
    "plt.show() "
   ]
  }
 ],
 "metadata": {
  "kernelspec": {
   "display_name": "Python 3",
   "language": "python",
   "name": "python3"
  },
  "language_info": {
   "codemirror_mode": {
    "name": "ipython",
    "version": 3
   },
   "file_extension": ".py",
   "mimetype": "text/x-python",
   "name": "python",
   "nbconvert_exporter": "python",
   "pygments_lexer": "ipython3",
   "version": "3.7.8"
  }
 },
 "nbformat": 4,
 "nbformat_minor": 4
}

{
 "cells": [
  {
   "cell_type": "markdown",
   "metadata": {},
   "source": [
    "# WeiTing: \n",
    "\n",
    "#Title : \n",
    "Tessellation Pattern\n",
    "\n",
    "#Inspiration : Tessellation patterns  \n",
    "\n",
    "#Method : I trying to use basic geometry to make patterns and hope it could be complex."
   ]
  },
  {
   "cell_type": "code",
   "execution_count": 12,
   "metadata": {},
   "outputs": [],
   "source": [
    "import matplotlib.pyplot as plt\n",
    "import math\n",
    "import random as r\n",
    "import ipywidgets as widgets\n",
    "from ipywidgets import interact"
   ]
  },
  {
   "cell_type": "code",
   "execution_count": 13,
   "metadata": {},
   "outputs": [
    {
     "data": {
      "application/vnd.jupyter.widget-view+json": {
       "model_id": "34ad18fa125f4ef8af1b07440aec1c93",
       "version_major": 2,
       "version_minor": 0
      },
      "text/plain": [
       "interactive(children=(IntSlider(value=25, description='iterations', max=40, min=4), IntSlider(value=3, descrip…"
      ]
     },
     "metadata": {},
     "output_type": "display_data"
    }
   ],
   "source": [
    "def arc(x_center, y_center, radius, fill):\n",
    "    x_vec =radius/2\n",
    "    y_vec =radius/2\n",
    "    xc = []\n",
    "    yc = []\n",
    "    xcR = []\n",
    "    ycR = []\n",
    "    res = 100\n",
    "    a = 2*math.pi/res\n",
    "    \n",
    "    #arc\n",
    "    for i in range(res):\n",
    "        if i>=0 and i<=25:\n",
    "            xc.append(x_center-x_vec + math.cos(i*a) * radius/2)\n",
    "            yc.append(y_center-y_vec + math.sin(i*a) * radius/2)\n",
    "    for i in range(res): \n",
    "        if i>=50 and i<=75:\n",
    "            xcR.append(x_center+x_vec + math.cos(i*a) * radius/2)\n",
    "            ycR.append(y_center+y_vec + math.sin(i*a) * radius/2) \n",
    "            \n",
    "    # fill or not        \n",
    "    if fill == 1:\n",
    "        x = []\n",
    "        x.extend([x_center-x_vec,xc[0],xcR[-1], x_center+x_vec, xcR[0],xc[-1],])\n",
    "        x.append(x[0])\n",
    "        y = []    \n",
    "        y.extend([y_center-y_vec,yc[0],ycR[-1], y_center+y_vec, ycR[0],yc[-1],])\n",
    "        y.append(y[0])\n",
    "        a = plt.plot(x,y, 'white',linewidth = 2)       \n",
    "        b = plt.fill(x,y, 'black',linewidth = 1)\n",
    "    else:\n",
    "        a = plt.plot(xc,yc, 'black',linewidth = 1)       \n",
    "        b = plt.plot(xcR,ycR, 'black',linewidth = 1)        \n",
    "    return a\n",
    "\n",
    "\n",
    "def arcRotate(x_center, y_center, radius, fill):\n",
    "    x_vec =radius/2\n",
    "    y_vec =radius/2\n",
    "    xc = []\n",
    "    yc = []\n",
    "    xcR = []\n",
    "    ycR = []\n",
    "    res = 100\n",
    "    a = 2*math.pi/res\n",
    "    \n",
    "    #arc\n",
    "    for i in range(res):\n",
    "        if i>=25 and i<=50:        \n",
    "            xc.append(x_center+x_vec + math.cos(i*a) * radius/2)\n",
    "            yc.append(y_center-y_vec + math.sin(i*a) * radius/2)   \n",
    "    for i in range(res): \n",
    "        if i>=75:\n",
    "            xcR.append(x_center-x_vec + math.cos(i*a) * radius/2)\n",
    "            ycR.append(y_center+y_vec + math.sin(i*a) * radius/2)         \n",
    "    # fill or not\n",
    "    if fill == 1:\n",
    "        x = []\n",
    "        x.extend([x_center+x_vec,xc[0],xcR[-1], x_center-x_vec, xcR[0],xc[-1],])\n",
    "        x.append(x[0])\n",
    "        y = []    \n",
    "        y.extend([y_center-y_vec,yc[0],ycR[-1], y_center+y_vec, ycR[0],yc[-1],])\n",
    "        y.append(y[0])\n",
    "        a = plt.plot(x,y, 'white',linewidth = 2)       \n",
    "        b = plt.fill(x,y, 'black',linewidth = 1)\n",
    "        \n",
    "    else:\n",
    "        a = plt.plot(xc,yc, 'black',linewidth = 3)       \n",
    "        b = plt.plot(xcR,ycR, 'black',linewidth = 3) \n",
    "    return a\n",
    "\n",
    "#####################################################\n",
    "\n",
    "@interact(iterations = widgets.IntSlider(min=4, max=40, step=1, value=25),\n",
    "          pattern = widgets.IntSlider(min=1, max=4, step=1, value=3),\n",
    "         fill = widgets.IntSlider(min=0, max=1, step=1, value=0))\n",
    "\n",
    "\n",
    "def run(iterations, pattern, fill):  \n",
    "    plt.figure(figsize=(10,10),frameon = 0)\n",
    "    plt.axis(\"equal\")\n",
    "    for i in range(iterations):\n",
    "        for j in range(iterations):\n",
    "            if i%pattern == 0 and j%pattern ==0:\n",
    "                arc(i, j, 1, fill)\n",
    "            elif i%pattern == 1 and j%pattern ==0:\n",
    "                arc(i, j, 1, fill)\n",
    "            else:\n",
    "                arcRotate(i, j, 1, fill)"
   ]
  },
  {
   "cell_type": "code",
   "execution_count": null,
   "metadata": {},
   "outputs": [],
   "source": []
  }
 ],
 "metadata": {
  "kernelspec": {
   "display_name": "Python 3",
   "language": "python",
   "name": "python3"
  },
  "language_info": {
   "codemirror_mode": {
    "name": "ipython",
    "version": 3
   },
   "file_extension": ".py",
   "mimetype": "text/x-python",
   "name": "python",
   "nbconvert_exporter": "python",
   "pygments_lexer": "ipython3",
   "version": "3.8.5"
  }
 },
 "nbformat": 4,
 "nbformat_minor": 4
}

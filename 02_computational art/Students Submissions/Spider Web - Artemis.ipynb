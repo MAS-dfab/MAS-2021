{
 "cells": [
  {
   "cell_type": "markdown",
   "metadata": {},
   "source": [
    "# Artemis : \n",
    "\n",
    "#Title : Spider Web\n",
    "\n",
    "#Inspiration : Splater Pattern, 1963, Ballistic Research Laboratories, Aberdeen, Meryland / Herbert W.Franke\n",
    "\n",
    "#Method : I made a double loop where I experimented with the resolution and a constantly increasing radius\n"
   ]
  },
  {
   "cell_type": "code",
   "execution_count": 3,
   "metadata": {},
   "outputs": [],
   "source": [
    "import matplotlib.pyplot as plt\n",
    "import math\n",
    "from ipywidgets import interact, interactive, fixed, interact_manual\n",
    "import ipywidgets as widgets\n",
    "import random"
   ]
  },
  {
   "cell_type": "code",
   "execution_count": 24,
   "metadata": {},
   "outputs": [
    {
     "data": {
      "application/vnd.jupyter.widget-view+json": {
       "model_id": "77258b7e74bf4265897cc58c85261200",
       "version_major": 2,
       "version_minor": 0
      },
      "text/plain": [
       "interactive(children=(IntSlider(value=20, description='resolution', max=50, min=1), Output()), _dom_classes=('…"
      ]
     },
     "metadata": {},
     "output_type": "display_data"
    }
   ],
   "source": [
    "class Rect (): \n",
    "  \n",
    "    def __init__(self, x1, y1, x2, y2):\n",
    "        self.x1=x1\n",
    "        self.x2=x2\n",
    "        self.y1=y1\n",
    "        self.y2=y2\n",
    "        \n",
    "        self.cx=0.5*(x1+x2)\n",
    "        self.cy=0.5*(y2+y2)\n",
    "        \n",
    "        self.x=[self.x1, self.x1, self.x2, self.x2]\n",
    "        self.y=[self.y1, self.y2, self.y2, self.y1]\n",
    "        \n",
    "    def display(self, colorv):\n",
    "        plt.axis(\"equal\")\n",
    "        \n",
    "        plt.fill(self.x,self.y, c = colorv, linewidth = 1)\n",
    "\n",
    "\n",
    "\n",
    "\n",
    "\n",
    "x,y = [],[]\n",
    "x1,y1 = [],[]\n",
    "\n",
    "@interact(resolution = widgets.IntSlider(min = 1, max = 50, step = 1, value = 20))\n",
    "\n",
    "def pattern(resolution):\n",
    "    \n",
    "    plt.figure (figsize=(50,50))  #it did not work if i had it outside of the definition\n",
    "    square = Rect(-20,-20,20,20)\n",
    "    square.display(\"black\")\n",
    "    \n",
    "    for i in range (resolution):\n",
    "\n",
    "         for j in range (resolution):\n",
    "            \n",
    "            theta = math.pi * 2 * (i*j/resolution)\n",
    "            x1.append(math.cos(theta)*j)\n",
    "            y1.append(math.sin(theta)*j) \n",
    "            \n",
    "    plt.plot(x1,y1,\"white\",linewidth = 0.6)"
   ]
  }
 ],
 "metadata": {
  "kernelspec": {
   "display_name": "Python 3",
   "language": "python",
   "name": "python3"
  },
  "language_info": {
   "codemirror_mode": {
    "name": "ipython",
    "version": 3
   },
   "file_extension": ".py",
   "mimetype": "text/x-python",
   "name": "python",
   "nbconvert_exporter": "python",
   "pygments_lexer": "ipython3",
   "version": "3.8.5"
  }
 },
 "nbformat": 4,
 "nbformat_minor": 4
}

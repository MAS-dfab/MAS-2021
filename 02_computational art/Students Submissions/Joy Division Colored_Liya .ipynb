{
 "cells": [
  {
   "cell_type": "markdown",
   "metadata": {},
   "source": [
    "# Name : Liya Sunny Anthraper\n",
    "...\n",
    "\n",
    "#Title : Joy Division Colored\n",
    "...\n",
    "\n",
    "#Idea / Concept / Inspiration : The concept was the take inspiration from the black and white art work done by joy division, and to make a twist in the color and number of lines.\n",
    "...\n",
    "\n",
    "#Method : \n",
    "..."
   ]
  },
  {
   "cell_type": "code",
   "execution_count": 1,
   "metadata": {},
   "outputs": [],
   "source": [
    "\n",
    "#Step 1 \n",
    "###################################\n",
    "\n",
    "import numpy as np\n",
    "import matplotlib.pyplot as plt\n",
    "import matplotlib.animation as animation\n",
    "import random as r\n",
    "import ipywidgets as widgets\n",
    "from ipywidgets import interact, interactive, fixed, interact_manual, widgets\n",
    "import noise\n",
    "import math"
   ]
  },
  {
   "cell_type": "code",
   "execution_count": 2,
   "metadata": {},
   "outputs": [
    {
     "data": {
      "application/vnd.jupyter.widget-view+json": {
       "model_id": "acf4a6410a79448f9aa2e7de2fbcbe03",
       "version_major": 2,
       "version_minor": 0
      },
      "text/plain": [
       "interactive(children=(IntSlider(value=10, description='a', max=50, min=1), IntSlider(value=40, description='b'…"
      ]
     },
     "metadata": {},
     "output_type": "display_data"
    }
   ],
   "source": [
    "#Step 2\n",
    "#################################\n",
    "\n",
    "@interact(a = widgets.IntSlider(min=1, max=50, step=1, value=10),b = widgets.IntSlider(min=1, max=80, step=1, value=40))\n",
    "\n",
    "\n",
    "#Step 3\n",
    "#################################\n",
    "\n",
    "# def take_smooth_noise_step(self, ):\n",
    "#     # find smooth noise angle\n",
    "\n",
    "#     pscale = 100\n",
    "#     n = noise.pnoise2(10*self.x/pscale, \n",
    "#                       10*self.y/pscale, \n",
    "#                       octaves=octaves, \n",
    "#                       persistence=persistence, \n",
    "#                       lacunarity=lacunarity, \n",
    "#                       repeatx=shape[1], \n",
    "#                       repeaty=shape[1], \n",
    "#                       base=0)\n",
    "#     return.angle = map(n,[(-0.5,0.5)+0.5]*5,-math.pi,math.pi)\n",
    "\n",
    "#Step 4\n",
    "#################################\n",
    "    \n",
    "def generate(a,b):\n",
    "    \n",
    "    # Fixing random state for reproducibility\n",
    "    np.random.seed(19680832)\n",
    "\n",
    "\n",
    "    # Create new Figure with black background\n",
    "    fig = plt.figure(figsize=(10, 12), facecolor='black')\n",
    "\n",
    "\n",
    "    # Add a subplot with no frame\n",
    "    ax = plt.subplot(111, frameon=True)\n",
    "    \n",
    "    \n",
    "#Step 5\n",
    "#################################\n",
    "        \n",
    "    # Generate random data\n",
    "    data = np.random.uniform(0.5, 1, (a, b))\n",
    "    X = np.linspace(-1, 1, data.shape[1])\n",
    "    G = 2 * np.exp(-2 * X ** 2)\n",
    "\n",
    "    # Generate line plots\n",
    "    lines = []\n",
    "    for i in range(len(data)):\n",
    "        # Small reduction of the X extents to get a perspective effect\n",
    "        xscale = 2 - i / 200.\n",
    "        # Same for linewidth \n",
    "        lw = 2 - i / 200.0\n",
    "        line, = ax.plot(xscale * X, i + G * data[i], color=[r.random(), 0.3, 0.2, 0.9], lw=lw)\n",
    "        lines.append(line)\n",
    "        \n",
    "        \n",
    "    ax.set_ylim(-1, 12)\n",
    "        \n",
    "#Step 6\n",
    "#################################        \n",
    "        \n",
    "    # Adding Text\n",
    "    ax.text(0.4, 0.01, \"Sunny.Sunny \", transform=ax.transAxes,\n",
    "        ha=\"left\", va=\"bottom\", color=\"black\",\n",
    "        family=\"papyrus\", fontweight=\"bold\", fontsize=20)\n",
    "    \n",
    "    ax.text(0.25, 0.94, \"Joy Division Coloured \", transform=ax.transAxes,\n",
    "        ha=\"left\", va=\"bottom\", color=\"black\",\n",
    "        family=\"papyrus\", fontweight=\"bold\", fontsize=25)"
   ]
  },
  {
   "cell_type": "code",
   "execution_count": null,
   "metadata": {},
   "outputs": [],
   "source": []
  }
 ],
 "metadata": {
  "kernelspec": {
   "display_name": "Python 3",
   "language": "python",
   "name": "python3"
  },
  "language_info": {
   "codemirror_mode": {
    "name": "ipython",
    "version": 3
   },
   "file_extension": ".py",
   "mimetype": "text/x-python",
   "name": "python",
   "nbconvert_exporter": "python",
   "pygments_lexer": "ipython3",
   "version": "3.7.8"
  }
 },
 "nbformat": 4,
 "nbformat_minor": 4
}

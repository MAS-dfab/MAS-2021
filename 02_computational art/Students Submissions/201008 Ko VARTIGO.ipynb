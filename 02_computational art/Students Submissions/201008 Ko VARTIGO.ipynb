{
 "cells": [
  {
   "cell_type": "markdown",
   "metadata": {},
   "source": [
    "# Name : Ko Tsuruta\n",
    "...\n",
    "\n",
    "#Title : VERTIGO\n",
    "...\n",
    "\n",
    "#Idea / Concept / Inspiration : Inspired by Roman Verostko\n",
    "                                The drawing expresses not only a colorful labyrinth, \n",
    "                                but also the feeling when we enter the labyrinth.\n",
    "...\n",
    "\n",
    "#Method : Step 1--Draw 2 NURBS crv. using random.\n",
    "                  1st crv. is biased to go along X-axis, \n",
    "                  2nd crv. is biased to go along Y-axis.\n",
    "          Step 2--Prepare a perlin noise to change the color of crv. gradationally.\n",
    "          Step 3--Array 1st crv. along 2nd crv.\n",
    "..."
   ]
  },
  {
   "cell_type": "code",
   "execution_count": 3,
   "metadata": {},
   "outputs": [],
   "source": [
    "import matplotlib.pyplot as plt\n",
    "import matplotlib.cm as cm\n",
    "import numpy as np\n",
    "import random\n",
    "import noise\n",
    "import math\n",
    "\n",
    "from ipywidgets import interact, widgets\n",
    "from scipy import interpolate\n",
    "from geomdl import NURBS"
   ]
  },
  {
   "cell_type": "code",
   "execution_count": 4,
   "metadata": {},
   "outputs": [],
   "source": [
    "class Dizzy():\n",
    "    \n",
    "    def __init__(self, res):\n",
    "        self.res = res\n",
    "        self.out = 0\n",
    "        self.out2 = 0\n",
    "        self.col = []\n",
    "    \n",
    "    def crv(self,crv_type: str, scale, rangex, rangey, iteration):\n",
    "        ctrlx = []\n",
    "        ctrly = []\n",
    "        \n",
    "        if crv_type == 'crv1':\n",
    "            for i in range(iteration):\n",
    "                ctrlx.append(i + rangex)\n",
    "                ctrly.append(random.randint(0,rangey))\n",
    "        if crv_type == 'crv2':\n",
    "            for i in range(iteration):\n",
    "                ctrly.append(i + rangey)\n",
    "                ctrlx.append(random.randint(0,rangex))\n",
    "\n",
    "        x = ctrlx\n",
    "        y = ctrly\n",
    "        l=len(x)  \n",
    "\n",
    "        t=np.linspace(0,1,l-2,endpoint=True)\n",
    "        t=np.append([0,0,0],t)\n",
    "        t=np.append(t,[1,1,1])\n",
    "\n",
    "        tck=[t,[x,y],3]\n",
    "        u3=np.linspace(0,1,(max(l*2,self.res)),endpoint=True)\n",
    "        \n",
    "        self.out = interpolate.splev(u3,tck)\n",
    "        #print(self.out)\n",
    "        return self.out\n",
    "    \n",
    "    def pnoise(self, scale, octaves, persistence, lacunarity):\n",
    "        pn = []\n",
    "        \n",
    "        for i in range(self.res):\n",
    "            r = noise.pnoise2(i/scale, \n",
    "                            i/scale, \n",
    "                            octaves=octaves, \n",
    "                            persistence=persistence, \n",
    "                            lacunarity=lacunarity, \n",
    "                            repeatx=self.res, \n",
    "                            base=0)\n",
    "            r_remapped = 0.5*(r+1)\n",
    "            pn.append(r_remapped)\n",
    "        return pn\n",
    "    \n",
    "    \n",
    "    def array(self, res, iteration1, iteration2, linewidth):\n",
    "        plt.figure(figsize=(30,30))\n",
    "\n",
    "        d = Dizzy( res )\n",
    "        c1 = d.crv('crv1', 10, 10, 5, iteration1)\n",
    "        c2 = d.crv('crv2', 10, 5, 5, iteration2)\n",
    "        pn1 = d.pnoise(10, 6, 0.1, 1.0)\n",
    "        pn2 = d.pnoise(20, 6, 0.5, 1.0)\n",
    "        lw = linewidth\n",
    "\n",
    "        col = []\n",
    "\n",
    "        for i in range(len(c1[0])):\n",
    "            col.append([pn1[i], pn2[i], 1])\n",
    "            #print(col)\n",
    "            _x = c1[0][i]-c2[0][i]\n",
    "            _y = c1[1][i]-c2[1][i]\n",
    "            plt.plot(c1[0]-_x, c1[1]-_y, color = col[i], linewidth=lw)"
   ]
  },
  {
   "cell_type": "code",
   "execution_count": 5,
   "metadata": {},
   "outputs": [
    {
     "data": {
      "application/vnd.jupyter.widget-view+json": {
       "model_id": "36f54a56f7ce48fb959d862271a55248",
       "version_major": 2,
       "version_minor": 0
      },
      "text/plain": [
       "interactive(children=(IntSlider(value=1000, description='res', max=3000, min=100, step=100), IntSlider(value=3…"
      ]
     },
     "metadata": {},
     "output_type": "display_data"
    }
   ],
   "source": [
    "@interact(res = widgets.IntSlider(min=100, max=3000, step=100, value=1000),\n",
    "         iteration1 = widgets.IntSlider(min=20, max=100, step=1, value=30),\n",
    "         iteration2 = widgets.IntSlider(min=20, max=100, step=1, value=75),\n",
    "         linewidth = widgets.FloatSlider(min=0.1, max=5.0, step=0.1, value=1.0))\n",
    "\n",
    "def dizzy(res, iteration1, iteration2, linewidth):\n",
    "    d = Dizzy( res )\n",
    "    d.array(res, iteration1, iteration2, linewidth)\n",
    "    \n",
    "    plt.figure(figsize=(30,30))\n",
    "    plt.axis(\"off\")\n",
    "    plt.show()"
   ]
  },
  {
   "cell_type": "code",
   "execution_count": null,
   "metadata": {},
   "outputs": [],
   "source": []
  }
 ],
 "metadata": {
  "kernelspec": {
   "display_name": "Python 3",
   "language": "python",
   "name": "python3"
  },
  "language_info": {
   "codemirror_mode": {
    "name": "ipython",
    "version": 3
   },
   "file_extension": ".py",
   "mimetype": "text/x-python",
   "name": "python",
   "nbconvert_exporter": "python",
   "pygments_lexer": "ipython3",
   "version": "3.7.8"
  }
 },
 "nbformat": 4,
 "nbformat_minor": 4
}

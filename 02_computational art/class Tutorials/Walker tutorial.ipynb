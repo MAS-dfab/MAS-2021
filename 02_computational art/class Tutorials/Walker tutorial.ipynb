{
 "cells": [
  {
   "cell_type": "code",
   "execution_count": 1,
   "metadata": {},
   "outputs": [],
   "source": [
    "import matplotlib.pyplot as plt\n",
    "import math\n",
    "import random as r\n",
    "\n",
    "import ipywidgets as widgets\n",
    "from ipywidgets import interact"
   ]
  },
  {
   "cell_type": "code",
   "execution_count": 2,
   "metadata": {},
   "outputs": [],
   "source": [
    "class Walker:\n",
    "    def __init__(self):\n",
    "        self.x = 0\n",
    "        self.y = 0\n",
    "        \n",
    "        self.history_x = [self.x]\n",
    "        self.history_y = [self.y]\n",
    "        \n",
    "    def draw(self):\n",
    "        fig1, ax = plt.subplots(1,figsize=(4,4))\n",
    "        ax = plt.axes(xlim=(-50, 50), ylim=(-50, 50))\n",
    "\n",
    "        # display history\n",
    "        plt.plot(self.history_x, self.history_y, 'ro', c='red', linewidth=1)\n",
    "        plt.plot(self.history_x, self.history_y, c='red', linewidth=3)\n",
    "        \n",
    "        #display current position\n",
    "        plt.plot(self.x, self.y, 'ro', c='green', linewidth=30)\n",
    "        \n",
    "    def take_random_step(self, stepsize=1):\n",
    "        angle_of_step_x = r.uniform(0.0,1.0)*2*math.pi\n",
    "        angle_of_step_y = r.uniform(0.0,1.0)*2*math.pi\n",
    "        \n",
    "        x_step = math.cos(angle_of_step_x) * stepsize\n",
    "        y_step = math.sin(angle_of_step_y) * stepsize\n",
    "        \n",
    "#         if x_step > 0:\n",
    "#             self.x += x_step \n",
    "#         else: \n",
    "#             self.x += x_step * 2.0\n",
    "            \n",
    "#         if y_step > 0:\n",
    "#             self.y += y_step \n",
    "#         else: \n",
    "#             self.y += y_step * 4.0   \n",
    "\n",
    "        self.x += x_step \n",
    "        self.y += y_step \n",
    "\n",
    "        \n",
    "        \n",
    "            \n",
    "        ## append positions to history\n",
    "        self.history_x.append(self.x)\n",
    "        self.history_y.append(self.y)\n"
   ]
  },
  {
   "cell_type": "code",
   "execution_count": 3,
   "metadata": {},
   "outputs": [
    {
     "data": {
      "application/vnd.jupyter.widget-view+json": {
       "model_id": "3b969573e3d049e3b922c70499efdffc",
       "version_major": 2,
       "version_minor": 0
      },
      "text/plain": [
       "interactive(children=(IntSlider(value=1, description='it', max=200), Output()), _dom_classes=('widget-interact…"
      ]
     },
     "metadata": {},
     "output_type": "display_data"
    }
   ],
   "source": [
    "r.seed(23)\n",
    "\n",
    "w = Walker()\n",
    "\n",
    "@interact(it = widgets.IntSlider(min=0, max=200, step=1, value=1))\n",
    "def walk(it):\n",
    "    for i in range(it):\n",
    "        w.take_random_step(stepsize=1)\n",
    "    w.draw()\n",
    "    \n",
    "plt.show()"
   ]
  },
  {
   "cell_type": "code",
   "execution_count": null,
   "metadata": {},
   "outputs": [],
   "source": []
  }
 ],
 "metadata": {
  "kernelspec": {
   "display_name": "Python 3",
   "language": "python",
   "name": "python3"
  },
  "language_info": {
   "codemirror_mode": {
    "name": "ipython",
    "version": 3
   },
   "file_extension": ".py",
   "mimetype": "text/x-python",
   "name": "python",
   "nbconvert_exporter": "python",
   "pygments_lexer": "ipython3",
   "version": "3.8.5"
  }
 },
 "nbformat": 4,
 "nbformat_minor": 4
}

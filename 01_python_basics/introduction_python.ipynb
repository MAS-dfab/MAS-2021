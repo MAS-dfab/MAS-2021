{
 "cells": [
  {
   "cell_type": "markdown",
   "metadata": {
    "slideshow": {
     "slide_type": "slide"
    }
   },
   "source": [
    "# Introduction to Python Programming \n",
    "# Content \n",
    "\n",
    "* [Print Statements](#Print-Statements)\n",
    "* [Variables and Types](#Variable-and-Types)\n",
    "* [Operators](#Operators)\n",
    "* [Boolean Expressions](#Boolean-Expressions)\n",
    "* [Conditionals](#Conditionals)\n",
    "* [Sequences: List, Range, Tuple](#Sequences:-List,-Range,-Tuple)\n",
    "* [Loops](#Loops)\n",
    "* [Mapping: Dictionary](#Mapping:-Dictionary)\n",
    "* [Functions](#Functions)\n",
    "* [Objects](#Objects)\n",
    "* [Varia](#Varia)\n",
    "\n",
    "\n"
   ]
  },
  {
   "cell_type": "markdown",
   "metadata": {
    "slideshow": {
     "slide_type": "slide"
    }
   },
   "source": [
    "## Comments and strings"
   ]
  },
  {
   "cell_type": "code",
   "execution_count": 1,
   "metadata": {
    "scrolled": true
   },
   "outputs": [],
   "source": [
    "# this is a commment"
   ]
  },
  {
   "cell_type": "code",
   "execution_count": 2,
   "metadata": {},
   "outputs": [],
   "source": [
    "# this is a multiline \n",
    "# comment"
   ]
  },
  {
   "cell_type": "code",
   "execution_count": 3,
   "metadata": {},
   "outputs": [],
   "source": [
    "# this is a multiline\n",
    "# multi-paragraph comment\n",
    "#\n",
    "# paragraphs are separated\n",
    "# by one single # (hashtag)"
   ]
  },
  {
   "cell_type": "code",
   "execution_count": 4,
   "metadata": {},
   "outputs": [
    {
     "data": {
      "text/plain": [
       "'This is also a multiline string.\\n\\nDo you understand the usage of single, double, and triple quotation marks?\\n'"
      ]
     },
     "execution_count": 4,
     "metadata": {},
     "output_type": "execute_result"
    }
   ],
   "source": [
    "\"This is a string\"\n",
    "'This is also a string'\n",
    "\n",
    "\"This is a string with 'another string' inside\"\n",
    "\n",
    "\"\"\"This is a multiline string.\n",
    "\n",
    "It is usually used as documentation string a.k.a. docstring.\n",
    "\"\"\"\n",
    "\n",
    "'''This is also a multiline string.\n",
    "\n",
    "Do you understand the usage of single, double, and triple quotation marks?\n",
    "'''\n"
   ]
  },
  {
   "cell_type": "markdown",
   "metadata": {
    "slideshow": {
     "slide_type": "slide"
    }
   },
   "source": [
    "## Print functions\n",
    "## Variables and basic types (int, float, string, etc)\n",
    "\n"
   ]
  },
  {
   "cell_type": "code",
   "execution_count": 5,
   "metadata": {},
   "outputs": [
    {
     "name": "stdout",
     "output_type": "stream",
     "text": [
      "Hello World!\n",
      "Hello MAS 2020/21\n",
      "1 1 1\n",
      "Johnny 2.0 3\n",
      "21\n",
      "10\n",
      "5.5\n",
      "26.5\n",
      "<class 'int'> <class 'int'> <class 'float'> <class 'float'>\n",
      "<class 'float'>\n",
      "5.0\n",
      "<class 'float'>\n",
      "10.0\n",
      "<class 'int'>\n",
      "50\n",
      "5\n",
      "10\n",
      "510\n",
      "50\n"
     ]
    }
   ],
   "source": [
    "print ('Hello World!')\n",
    "\n",
    "# type string (assign a variable by '=' operator)\n",
    "a = \"Hello MAS 2020/21\"\n",
    "print(a)\n",
    "\n",
    "# multi-variable assignement\n",
    "a = b = c = 1\n",
    "print(a, b, c)\n",
    "\n",
    "# multi-variable multi-object assignement\n",
    "a, b, c = \"Johnny\", 2.0, 3\n",
    "print(a, b, c)\n",
    "\n",
    "# deleta a variable\n",
    "del(a)\n",
    "# print (a)\n",
    "\n",
    "# integers and floats\n",
    "a = 10\n",
    "b = a\n",
    "a = a + 1\n",
    "a += 10\n",
    "c = 5.5\n",
    "d = c + a\n",
    "\n",
    "print(a, b, c, d, sep='\\n')\n",
    "\n",
    "# types (Python variables do not need explicit declaration)\n",
    "print(type(a), type(b), type(c), type(d))\n",
    "\n",
    "# other ways of defining types (explicit declaration)\n",
    "# type float\n",
    "my_float = float(5)\n",
    "print(type(my_float))\n",
    "print(my_float)\n",
    "\n",
    "b = 100 / 10.0\n",
    "print(type(b))\n",
    "print(b)\n",
    "\n",
    "# type integer\n",
    "my_int = int(50.0)\n",
    "print(type(my_int))\n",
    "print(my_int)\n",
    "\n",
    "# type string\n",
    "my_string_1 = str(5)\n",
    "my_string_2 = \"10\"\n",
    "print(my_string_1)\n",
    "print(my_string_2)\n",
    "print(my_string_1 + my_string_2)\n",
    "\n",
    "print(repr(my_int))"
   ]
  },
  {
   "cell_type": "markdown",
   "metadata": {
    "slideshow": {
     "slide_type": "slide"
    }
   },
   "source": [
    "## Standard datatypes\n",
    "\n",
    "<ol>\n",
    "<li>Numbers (int, float, etc.)</li>\n",
    "<li>String</li>\n",
    "<li>List</li>\n",
    "<li>Tuple ('unmutable list')</li>  \n",
    "<li>Dictonary </li> \n",
    "<li>Set (unordered list)</li> \n",
    "</ol>\n",
    "\n",
    "#### Including common methods and functions:\n",
    ".update(), .add(), .discard(), .remove(), .pop(), .clear(), .union() or |,\n",
    ".intersection()  or  &, .difference()  or  -, .symmetric_difference() or  ^,"
   ]
  },
  {
   "cell_type": "code",
   "execution_count": null,
   "metadata": {},
   "outputs": [],
   "source": []
  },
  {
   "cell_type": "markdown",
   "metadata": {
    "slideshow": {
     "slide_type": "slide"
    }
   },
   "source": [
    "## Common operators\n",
    "\n",
    "<ol>\n",
    "<li>Arithmetic Operators</li>\n",
    "<li>Comparison (Relational) Operators</li>\n",
    "<li>Assignment Operators</li>\n",
    "<li>Logical Operators</li>  \n",
    "<li>Bitwise Operators</li> \n",
    "<li>Membership Operators</li> \n",
    "<li>Identity Operators</li> \n",
    "</ol>\n",
    "\n",
    "#### we will cover arithmetic, assignment, comparison, membership and identity operators"
   ]
  },
  {
   "cell_type": "markdown",
   "metadata": {
    "slideshow": {
     "slide_type": "slide"
    }
   },
   "source": [
    "## Arithmetic operators\n",
    "\n",
    "<ol>\n",
    "<li>+, -, *, / (addition, subtraction, multiplication, division)</li>\n",
    "<li>** (exponent)</li>\n",
    "<li>% (modulus, divides left hand operand by right hand operand and returns remainder)</li>\n",
    "<li>// (floor division, division of operands where the result is the quotient in which the digits after the decimal point are removed.)</li>  \n",
    "</ol>"
   ]
  },
  {
   "cell_type": "code",
   "execution_count": 8,
   "metadata": {
    "scrolled": true
   },
   "outputs": [
    {
     "name": "stdout",
     "output_type": "stream",
     "text": [
      "15\n",
      "26.5\n",
      "702.25\n",
      "0.25\n",
      "0.25\n",
      "2.25\n",
      "2.25\n",
      "0\n",
      "2\n",
      "-3\n",
      "<class 'float'>\n"
     ]
    }
   ],
   "source": [
    "a = 10\n",
    "b = 5\n",
    "c = a + b\n",
    "print(c)\n",
    "\n",
    "d = c / 10 + b * 5\n",
    "print(d)\n",
    "\n",
    "d_square = d**2\n",
    "print(d_square)\n",
    "\n",
    "print(d_square % 2)\n",
    "print(d_square % 3)\n",
    "print(d_square % 4)\n",
    "print(d_square % 14)\n",
    "\n",
    "print(2 % 2)\n",
    "\n",
    "print(8 // 3)\n",
    "print(-8 // 3)\n",
    "\n",
    "print(type(10/2.0))"
   ]
  },
  {
   "cell_type": "markdown",
   "metadata": {},
   "source": [
    "# Assignment operators\n",
    "<ol>\n",
    "<li>=</li> \n",
    "<li>+=</li>\n",
    "<li>-=</li>\n",
    "<li>*=</li>\n",
    "<li>/=</li>\n",
    "<li>%= (Modulus)</li>\n",
    "<li>**= (Exponent)</li>\n",
    "<li>//= (Floor Division)</li>\n",
    "<li>%= (Modulus)</li>\n",
    "</ol>\n",
    "\n",
    "### usually used in loops, except =\n"
   ]
  },
  {
   "cell_type": "code",
   "execution_count": 20,
   "metadata": {},
   "outputs": [
    {
     "name": "stdout",
     "output_type": "stream",
     "text": [
      "1\n",
      "4\n"
     ]
    }
   ],
   "source": []
  },
  {
   "cell_type": "markdown",
   "metadata": {},
   "source": [
    "# Comparison operators\n",
    "\n",
    "<ol>\n",
    "<li>==</li> \n",
    "<li>!=</li>\n",
    "<li>></li>\n",
    "<li><</li>\n",
    "<li>>=</li>\n",
    "<li><= </li>\n",
    "\n",
    "</ol>\n",
    "\n",
    "### usually used for conditional statements\n"
   ]
  },
  {
   "cell_type": "code",
   "execution_count": null,
   "metadata": {},
   "outputs": [],
   "source": []
  },
  {
   "cell_type": "markdown",
   "metadata": {},
   "source": [
    "# Membership operators and identity operators\n",
    "\n",
    "\n",
    "<ol>\n",
    "<li>in</li> \n",
    "<li>not in</li>\n",
    "<li>is</li>\n",
    "<li>is not</li>\n",
    "</ol>\n",
    "\n",
    "### usually used for conditional statements  (is and is not is to check that they are the same object in the computers memory in contrast to == and !=)"
   ]
  },
  {
   "cell_type": "markdown",
   "metadata": {},
   "source": [
    "\n",
    "# Conditionals ( if, elif, else)\n",
    "# Boolean expressions (True, False, ==, !=)"
   ]
  },
  {
   "cell_type": "code",
   "execution_count": 23,
   "metadata": {},
   "outputs": [
    {
     "name": "stdout",
     "output_type": "stream",
     "text": [
      "The value of this variable is 57\n",
      "The value of this variable is not 57. It is 100\n",
      "The value of this variable is greater than or equal\n",
      "          to 20 but smaller than or equal to 60\n",
      "True\n",
      "True\n",
      "True\n",
      "False\n"
     ]
    }
   ],
   "source": [
    "# single conditional statement, if-statement\n",
    "var_1 = 57\n",
    "if var_1 == 57:\n",
    "    print(\"The value of this variable is 57\")\n",
    "\n",
    "# two-conditional statement, if-else-statement\n",
    "var_2 = 100\n",
    "if var_2 == 57:\n",
    "    print(\"The value of this variable is 57\")\n",
    "else:\n",
    "    print(\"The value of this variable is not 57. It is \" + str(var_2))\n",
    "\n",
    "# multi-conditional statement, if-elif-else-statement\n",
    "var_3 = 30\n",
    "if var_3 < 20:\n",
    "    print(\"The value of this variable is smaller than 20\")\n",
    "elif var_3 >= 20 and var_3 <= 60:\n",
    "    print(\"\"\"The value of this variable is greater than or equal\n",
    "          to 20 but smaller than or equal to 60\"\"\")\n",
    "else:\n",
    "    print(\"The value of this variable is bigger than 60\")\n",
    "    \n",
    "    \n",
    "# True or False, == or !=\n",
    "print(True or False)\n",
    "print(True and False)\n",
    "print(10 == 10)\n",
    "print(50 <= 60)\n",
    "print(not True)"
   ]
  },
  {
   "cell_type": "markdown",
   "metadata": {},
   "source": [
    "# Sequence types\n"
   ]
  },
  {
   "cell_type": "markdown",
   "metadata": {},
   "source": [
    "# List"
   ]
  },
  {
   "cell_type": "code",
   "execution_count": 26,
   "metadata": {},
   "outputs": [
    {
     "name": "stdout",
     "output_type": "stream",
     "text": [
      "[1, 2, 3, 4, 5, 6, 7, 8, 9, 10, 11, 12, 13, 14, 15, 16, 17, 18, 19, 20, 21, 22, 23, 24, 25, 26, 27, 28, 29, 30, 31, 32, 33, 34, 35, 36, 37, 38, 39, 40, 41, 42, 43, 44, 45, 46, 47, 48, 49, 50, 51, 52, 53, 54, 55, 56, 57, 58, 59, 60, 61, 62, 63, 64, 65, 66, 67, 68, 69, 70, 71, 72, 73, 74, 75, 76, 77, 78, 79, 80, 81, 82, 83, 84, 85, 86, 87, 88, 89, 90, 91, 92, 93, 94, 95, 96, 97, 98, 99]\n",
      "[1, 6, 11, 16, 21, 26, 31, 36, 41, 46, 51, 56, 61, 66, 71, 76, 81, 86, 91, 96]\n",
      "range(100, -10, -20)\n",
      "4\n",
      "['hello', 'goodbye', 'no more ideas', 'etc.', 1, 3, 4, 6, 8, 11, 13]\n",
      "['hello', 'goodbye', 'no more ideas', 'etc.', 'hello', 'goodbye', 'no more ideas', 'etc.', 'hello', 'goodbye', 'no more ideas', 'etc.']\n",
      "True\n",
      "False\n",
      "hello , string_list element 1\n",
      "goodbye , string_list element 2\n",
      "['no more ideas', 'etc.']\n",
      "['goodbye', 'no more ideas']\n",
      "etc.\n",
      "[1]\n",
      "[1, 10]\n",
      "[1, 10, 100]\n",
      "[1, 10, 100, 5, 5, 5, 5, 5, 5, 5, 5, 5, 5]\n",
      "['start', 1, 10, 100, 5, 5, 5, 5, 5, 5, 5, 5, 5, 5]\n",
      "['start', 1, 10, 100, 5, 5, 5, 5, 5, 5, 5, 5, 5, 5, 'end']\n",
      "['start', 1, 10, 100, 5, 5, 5, 5, 5, 5, 5, 5, 5, 5]\n",
      "end\n",
      "['start', 1, 100, 5, 5, 5, 5, 5, 5, 5, 5, 5, 5]\n",
      "[5, 5, 5, 5, 5, 5, 5, 5, 5, 5, 100, 1, 'start']\n"
     ]
    }
   ],
   "source": [
    "# lists are a list of values\n",
    "# constructed with square brackets, separating items with commas\n",
    "# these items can have any types, e.g.\n",
    "\n",
    "number_list = [1, 3, 4, 6, 8, 11, 13]\n",
    "string_list = [\"hello\", \"goodbye\", \"no more ideas\", \"etc.\"]\n",
    "mixed_list = [\"strings\", 5, 6, 6.7, True, \"etc.\"]\n",
    "# mixed_list are NOT a good way of using lists and should be avoided!!!!\n",
    "\n",
    "# arithmetic progressions in lists, range() function\n",
    "print([*range(1, 100)])\n",
    "print(list(range(1, 100, 5)))\n",
    "print(range(100, -10, -20))\n",
    "\n",
    "# basic list operations\n",
    "# len(), + (concatenation), * (repetition), in (membership)\n",
    "\n",
    "print(len(string_list))\n",
    "print(string_list + number_list)\n",
    "print(string_list*3)\n",
    "print(\"hello\" in string_list)\n",
    "print(\"houdini\" in string_list)\n",
    "\n",
    "# basic list methods\n",
    "# access values in list\n",
    "print(string_list[0], \", string_list element 1\")\n",
    "print(string_list[1], \", string_list element 2\")\n",
    "\n",
    "# slicing\n",
    "print(string_list[2:4])\n",
    "print(string_list[1:3])\n",
    "print(string_list[-1])\n",
    "\n",
    "# append, extend, insert, pop, remove\n",
    "\n",
    "# initialize empty list\n",
    "my_list = []\n",
    "\n",
    "# append object to the end of the list, list.append(obj)\n",
    "my_list.append(1)\n",
    "print(my_list)\n",
    "my_list.append(10)\n",
    "print(my_list)\n",
    "my_list.append(100)\n",
    "print(my_list)\n",
    "\n",
    "# extend objects to the end of the list, list.extend([obj, obj, obj])\n",
    "my_list.extend([5]*10)\n",
    "print(my_list)\n",
    "\n",
    "# inserts an object into a list at specific index\n",
    "my_list.insert(0, \"start\")\n",
    "print(my_list)\n",
    "my_list.insert(len(my_list), \"end\")\n",
    "print(my_list)\n",
    "\n",
    "# removes and returns last object from list\n",
    "obj = my_list.pop()\n",
    "print(my_list)\n",
    "print(obj)\n",
    "\n",
    "# removes object from list\n",
    "\n",
    "my_list.remove(10)\n",
    "# my_list.remove(10)\n",
    "print(my_list)\n",
    "\n",
    "# reverse, sort\n",
    "# reverses objects of list in place\n",
    "\n",
    "my_list.reverse()\n",
    "print(my_list)\n",
    "\n",
    "# sorts objects of list, use compare func if given\n",
    "\n",
    "#my_list.sort()\n",
    "#print(my_list)\n",
    "\n",
    "# other list options\n",
    "# count, index, etc."
   ]
  },
  {
   "cell_type": "markdown",
   "metadata": {},
   "source": [
    "# Tuples"
   ]
  },
  {
   "cell_type": "code",
   "execution_count": 27,
   "metadata": {},
   "outputs": [
    {
     "name": "stdout",
     "output_type": "stream",
     "text": [
      "(1, 2, 3)\n",
      "(1, 2, 3, 'hello', 'goodbye')\n"
     ]
    }
   ],
   "source": [
    "# tuple is a sequence of immutable Python objects.\n",
    "# tuples cannot be changed unlike lists\n",
    "my_tuple_1 = (1, 2, 3)\n",
    "my_tuple_2 = (\"hello\", \"goodbye\")\n",
    "print(my_tuple_1)\n",
    "print(my_tuple_1 + my_tuple_2)\n",
    "\n",
    "# value access similar to lists\n",
    "# basic operations: len(), concatenation, repetition, membership, iteration"
   ]
  },
  {
   "cell_type": "markdown",
   "metadata": {},
   "source": [
    "# Simple dictionaries"
   ]
  },
  {
   "cell_type": "code",
   "execution_count": 28,
   "metadata": {},
   "outputs": [
    {
     "name": "stdout",
     "output_type": "stream",
     "text": [
      "my_dict['Name']:  David\n",
      "my_dict['Age']:  21\n",
      "my_dict['Name']:  David\n",
      "my_dict['Programme']:  MAS DFAB\n"
     ]
    }
   ],
   "source": [
    "# a list of keys - each key is pointing to a value\n",
    "# keys have to be immutable data type, values can be of any type\n",
    "\n",
    "# example\n",
    "my_dict = {\"Name\": \"David\", \"Age\": 21, \"Profession\": \"Architect\"}\n",
    "print(\"my_dict['Name']: \", my_dict['Name'])\n",
    "print(\"my_dict['Age']: \", my_dict['Age'])\n",
    "\n",
    "my_dict['Age'] = 32  # update existing entry\n",
    "my_dict['Programme'] = \"MAS DFAB\"  # add new entry\n",
    "\n",
    "print(\"my_dict['Name']: \", my_dict['Name'])\n",
    "print(\"my_dict['Programme']: \", my_dict['Programme'])"
   ]
  },
  {
   "cell_type": "markdown",
   "metadata": {},
   "source": [
    "# loops (for, while, nested loops, etc.)"
   ]
  },
  {
   "cell_type": "code",
   "execution_count": 29,
   "metadata": {},
   "outputs": [
    {
     "name": "stdout",
     "output_type": "stream",
     "text": [
      "1\n",
      "2\n",
      "3\n",
      "4\n",
      "5\n",
      "6\n",
      "7\n",
      "8\n",
      "9\n",
      "10\n",
      "out of while loop\n",
      "dog\n",
      "cat\n",
      "horse\n",
      "rabbit\n",
      "snake\n",
      "100.0\n",
      "100.2\n",
      "100.4\n",
      "100.6\n",
      "100.8\n",
      "current letter:  P\n",
      "current letter:  y\n",
      "current letter:  t\n",
      "current letter:  h\n",
      "current letter:  o\n",
      "current letter:  n\n",
      "0 dog\n",
      "1 cat\n",
      "2 horse\n",
      "3 rabbit\n",
      "4 snake\n",
      "0 dog\n",
      "1 cat\n",
      "2 horse\n",
      "3 rabbit\n",
      "4 snake\n",
      "0 0\n",
      "0 1\n",
      "0 2\n",
      "0 3\n",
      "0 4\n",
      "0 5\n",
      "1 0\n",
      "1 1\n",
      "1 2\n",
      "1 3\n",
      "1 4\n",
      "1 5\n",
      "2 0\n",
      "2 1\n",
      "2 2\n",
      "2 3\n",
      "2 4\n",
      "2 5\n",
      "3 0\n",
      "3 1\n",
      "3 2\n",
      "3 3\n",
      "3 4\n",
      "3 5\n",
      "4 0\n",
      "4 1\n",
      "4 2\n",
      "4 3\n",
      "4 4\n",
      "4 5\n",
      "5 0\n",
      "5 1\n",
      "5 2\n",
      "5 3\n",
      "5 4\n",
      "5 5\n",
      "6 0\n",
      "6 1\n",
      "6 2\n",
      "6 3\n",
      "6 4\n",
      "6 5\n",
      "7 0\n",
      "7 1\n",
      "7 2\n",
      "7 3\n",
      "7 4\n",
      "7 5\n",
      "8 0\n",
      "8 1\n",
      "8 2\n",
      "8 3\n",
      "8 4\n",
      "8 5\n",
      "9 0\n",
      "9 1\n",
      "9 2\n",
      "9 3\n",
      "9 4\n",
      "9 5\n",
      "60 points have been generated\n"
     ]
    }
   ],
   "source": [
    "# while loop\n",
    "# repeats statement(s) while a condition is TRUE\n",
    "# make sure to ALWAYS have an exit condition\n",
    "\n",
    "break_condition = 0\n",
    "while break_condition < 10:\n",
    "    break_condition = break_condition + 1\n",
    "    print(break_condition)\n",
    "else:\n",
    "    print(\"out of while loop\")\n",
    "\n",
    "# for loop\n",
    "# iterating over items of a sequence (usually a list)\n",
    "pets = [\"dog\", \"cat\", \"horse\", \"rabbit\", \"snake\"]\n",
    "for pet in pets:\n",
    "    print(pet)\n",
    "\n",
    "numbers = range(5)\n",
    "for n in numbers:\n",
    "    print(n / 5.0 + 100)\n",
    "\n",
    "for letter in \"Python\":\n",
    "    print(\"current letter: \", letter)\n",
    "\n",
    "# iterating over sequence index\n",
    "for index in range(len(pets)):\n",
    "    print(index, pets[index])\n",
    "\n",
    "for i, pet in enumerate(pets):\n",
    "    print(i, pet)\n",
    "\n",
    "# nested loops\n",
    "points = []\n",
    "x_size = 10\n",
    "y_size = 6\n",
    "\n",
    "for i in range(x_size):\n",
    "    for j in range(y_size):\n",
    "        print(i, j)\n",
    "else:\n",
    "    print(x_size * y_size, \"points have been generated\")\n",
    "\n",
    "# break (terminates and steps to the statement immediately following the loop)\n",
    "# continue (skip remainder of body and immediately retest its condition prior\n",
    "# to reiterating)\n",
    "# pass (no command or statement)"
   ]
  },
  {
   "cell_type": "markdown",
   "metadata": {},
   "source": [
    "# Definitions, functions (functions, nested functions, recursive functions)"
   ]
  },
  {
   "cell_type": "code",
   "execution_count": 43,
   "metadata": {},
   "outputs": [
    {
     "name": "stdout",
     "output_type": "stream",
     "text": [
      "goodmorning davud\n",
      "3 45 2360 1225 780\n",
      "i =  0 area =  0.0\n",
      "i =  1 area =  3.14\n",
      "i =  2 area =  12.56\n",
      "i =  3 area =  28.26\n",
      "i =  4 area =  50.24\n",
      "i =  5 area =  78.5\n",
      "i =  6 area =  113.04\n",
      "i =  7 area =  153.86\n",
      "i =  8 area =  200.96\n",
      "i =  9 area =  254.34\n",
      "number =  1 area =  3.14\n",
      "number =  1 area =  3.14\n",
      "number =  2 area =  12.56\n",
      "number =  3 area =  28.26\n",
      "number =  5 area =  78.5\n",
      "number =  8 area =  200.96\n",
      "number =  13 area =  530.66\n",
      "running recursive function \n",
      "running recursive function \n",
      "running recursive function \n",
      "running recursive function \n",
      "running recursive function \n",
      "End\n"
     ]
    }
   ],
   "source": [
    "\n",
    "def list_sum(number_list):\n",
    "    output = 0\n",
    "    for number in number_list:\n",
    "        output += number\n",
    "    return output\n",
    "\n",
    "\n",
    "def say_hello(name):\n",
    "    print(\"goodmorning \"+name)\n",
    "\n",
    "\n",
    "for i in range(1):\n",
    "    if i % 2 == 0:\n",
    "        say_hello(\"davud\")\n",
    "    else:\n",
    "        say_hello(\"mas\")\n",
    "\n",
    "\n",
    "check_list_1 = list(range(3))\n",
    "check_list_2 = list(range(10))\n",
    "check_list_3 = list(range(20, 100, 2))\n",
    "check_list_4 = list(range(50))\n",
    "check_list_5 = list(range(40))\n",
    "\n",
    "check_sum_1 = list_sum(check_list_1)\n",
    "check_sum_2 = list_sum(check_list_2)\n",
    "check_sum_3 = list_sum(check_list_3)\n",
    "check_sum_4 = list_sum(check_list_4)\n",
    "check_sum_5 = list_sum(check_list_5)\n",
    "\n",
    "print(check_sum_1, check_sum_2, check_sum_3, check_sum_4, check_sum_5)\n",
    "\n",
    "\n",
    "def circle_area(radius):\n",
    "    pi = 3.14\n",
    "    area = pi * radius ** 2\n",
    "    return area\n",
    "\n",
    "\n",
    "for i in range(10):\n",
    "    print(\"i = \", i, \"area = \", circle_area(i))\n",
    "\n",
    "fib = [1, 1, 2, 3, 5, 8, 13]\n",
    "\n",
    "for number in fib:\n",
    "    print(\"number = \", number, \"area = \", circle_area(number))\n",
    "\n",
    "    \n",
    "def recursive(n):\n",
    "    print(\"running recursive function \")\n",
    "    if n == 1:\n",
    "        return 1\n",
    "    else:\n",
    "        res = n * recursive(n-1)  \n",
    "        return \"End\"\n",
    "\n",
    "print(recursive(5))\n",
    "\n"
   ]
  },
  {
   "cell_type": "markdown",
   "metadata": {},
   "source": [
    "# Classes"
   ]
  },
  {
   "cell_type": "code",
   "execution_count": 37,
   "metadata": {},
   "outputs": [
    {
     "name": "stdout",
     "output_type": "stream",
     "text": [
      "My name is: David my programme is: Fishing course\n",
      "My name is: Angela my programme is: Canoe course\n"
     ]
    },
    {
     "data": {
      "image/png": "[encoded data removed]",
      "text/plain": [
       "<Figure size 1080x1080 with 1 Axes>"
      ]
     },
     "metadata": {
      "needs_background": "light"
     },
     "output_type": "display_data"
    }
   ],
   "source": [
    "import math\n",
    "import matplotlib.pyplot as plt\n",
    "import random as r\n",
    "\n",
    "\n",
    "class Student:\n",
    "    def __init__(self, name, programme=\"MAS\"):\n",
    "        self.programme = programme\n",
    "        self.name = name\n",
    "\n",
    "    def introduce_yourself(self):\n",
    "        print(\"My name is: \" + self.name +\n",
    "              \" my programme is: \" + self.programme)\n",
    "\n",
    "\n",
    "new_student = Student(\"David\", \"Fishing course\")\n",
    "new_student.introduce_yourself()\n",
    "new_student_2 = Student(\"Angela\", \"Canoe course\")\n",
    "new_student_2.introduce_yourself()\n",
    "\n",
    "\n",
    "class Circle:\n",
    "    def __init__(self, radius, x_pos, y_pos, color):\n",
    "        # store init values as internal variables\n",
    "        self.radius = radius\n",
    "        self.x = x_pos\n",
    "        self.y = y_pos\n",
    "        self.c = color\n",
    "\n",
    "    def calculate_area(self):\n",
    "        # calculate and print out area\n",
    "        area = math.pi * self.radius ** 2\n",
    "        return area\n",
    "\n",
    "    def calculate_circumference(self):\n",
    "        # calculate and print out circumference\n",
    "        circumference = 2 * math.pi * self.radius\n",
    "        return circumference\n",
    "\n",
    "    def display(self):\n",
    "        xc = []\n",
    "        yc = []\n",
    "        res = 100\n",
    "        a = 2*math.pi/res\n",
    "        for i in range(res):\n",
    "            xc.append(self.x + math.cos(i*a) * self.radius)\n",
    "            yc.append(self.y + math.sin(i*a) * self.radius)\n",
    "        plt.fill(xc, yc, c=self.c)\n",
    "\n",
    "\n",
    "plt.figure(figsize=(15, 15))\n",
    "plt.axis('equal')\n",
    "\n",
    "for i in range(100):\n",
    "    c = Circle(r.random(), r.random()*10, r.random()*10, (0, 0, r.random()))\n",
    "    c.display()\n"
   ]
  },
  {
   "cell_type": "code",
   "execution_count": null,
   "metadata": {},
   "outputs": [],
   "source": []
  }
 ],
 "metadata": {
  "celltoolbar": "Slideshow",
  "kernelspec": {
   "display_name": "Python 3",
   "language": "python",
   "name": "python3"
  },
  "language_info": {
   "codemirror_mode": {
    "name": "ipython",
    "version": 3
   },
   "file_extension": ".py",
   "mimetype": "text/x-python",
   "name": "python",
   "nbconvert_exporter": "python",
   "pygments_lexer": "ipython3",
   "version": "3.8.5"
  }
 },
 "nbformat": 4,
 "nbformat_minor": 2
}
